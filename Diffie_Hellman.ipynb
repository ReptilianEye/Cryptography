{
 "cells": [
  {
   "cell_type": "markdown",
   "id": "552b0fe2",
   "metadata": {},
   "source": [
    "# Problem logarytmu dyskretnego\n",
    "\n",
    "Niech $(G,\\circ)$ będzie grupą z działaniem $\\circ$ i elementem neutralnym $1_G$. Wtedy dla dowolnego elementu $a\\in G$ i $k\\in\\mathbb{Z}$ definiujemy _potęgę_ $$a^k =\\left\\{\\begin{array}{cc}\n",
    "\\underbrace{a\\circ a\\circ \\ldots \\circ a}_{k}&\\text{ dla }k>0\\\\\n",
    "1_G&\\text{ dla }k=0\\\\\n",
    "\\underbrace{a^{-1}\\circ a^{-1}\\circ \\ldots \\circ a^{-1}}_{k}&\\text{ dla }k<0\n",
    "\\end{array}\\right.$$\n",
    "gdzie $a^{-1}$ jest elementem odwrotnym do $a$.\n",
    "\n",
    "Dla $a,b\\in G$, $b\\neq 1_G$, _logarytmem dyskretnym_ $\\log_b a$ jest każda liczba $k\\in\\mathbb{Z}$ taka, że $b^k=a$.\n",
    "\n",
    "## Logarytm dyskretny w $\\mathbb{Z}_n$\n",
    "\n",
    "W przypadku pierścienia $\\mathbb{Z}_n$ logarytmem dyskretnym $\\log_b a$ jest każda liczba $k\\in\\mathbb{Z}$ taka, że $b^k=a\\mod n$, o ile w ogóle istnieje.\n",
    "\n",
    "Specyficzną sytuacją w teorii liczb jest gdy $n=p$ jest liczbą pierwszą a $q$ jest pierwiastkiem pierwotnym $\\mod p$. Wtedy:\n",
    "\n",
    "- potęgi $q^k\\mod p$ generują cały zbiór $[1,p-1]$, tzn. $q$ jest generatorem grupy multiplikatywneh rzędu $p-1$\n",
    "- logarytm dyskretny $\\log_q a$ istnieje dla każdego niezerowego elementu $a\\in \\mathbb{Z}_p$\n",
    "\n",
    "## Algorytm baby-step giant-step\n",
    "\n",
    "Jeden z najprostszych (poza metodą naiwną) algorytmów poszukiwania logarytmu dyskretnego w grupach cyklicznych.\n",
    "\n",
    "Niech $p$ będzie liczbą pierwszą oraz niech $q$ będzie pierwiastkiem pierwotnym modulo $p$. Dla niezerowego $a\\in\\mathbb{Z}_p$ szukamy liczby $k\\in\\mathbb{Z}$ takiej, że $q^k=a\\mod p$\n",
    "\n",
    "### Krok 1.\n",
    "\n",
    "- $m=\\lceil\\sqrt{p-1}\\rceil$\n",
    "- tworzymy pomocniczą tablicę potęg: dla wszystkich $i\\in [0,m)$ obliczamy parę $(i,q^i)$\n",
    "- obliczamy $r=(q^{-1})^m$\n",
    "\n",
    "### Krok 2.\n",
    "\n",
    "- $b=a$\n",
    "- dla wszystkich $j\\in [0,m)$:\n",
    "  - sprawdzamy, czy para $(i,b)$ jest elementem tablicy potęg dla pewnego $i$\n",
    "  - jeżeli tak, to $k=jm+i$ i kończymy algorytm\n",
    "  - jeżeli nie, to $b=br$ i kontynuujemy pętlę\n"
   ]
  },
  {
   "cell_type": "markdown",
   "id": "0a168713",
   "metadata": {},
   "source": [
    "## Zadanie 1.\n",
    "\n",
    "Zaimplementować algorytm baby-step giant-step. Przetestować dla podanych danych testujących.\n",
    "\n",
    "```Dane testujące:\n",
    "p = 7\n",
    "q = 3\n",
    "a = 4\n",
    "\n",
    "m = 3\n",
    "tablica_testowa = [1,3,2]\n",
    "r = 6\n",
    "k = 4 (j = 1, i = 1)\n",
    "```\n",
    "\n",
    "```\n",
    "p = 29\n",
    "q = 8\n",
    "a = 10\n",
    "\n",
    "m = 6\n",
    "tablica_testowa = [1,8,6,19,7,27]\n",
    "r = 9\n",
    "k = 17 (j = 2, i = 5)\n",
    "```\n",
    "\n",
    "```\n",
    "p = 113\n",
    "q = 76\n",
    "a = 84\n",
    "\n",
    "m = 11\n",
    "tablica_testowa = [1,76,13,84,56,75,50,71,85,19,88]\n",
    "r = 70\n",
    "k = 3 (j = 0, i = 3)\n",
    "```\n"
   ]
  },
  {
   "cell_type": "code",
   "execution_count": 42,
   "id": "9c934933",
   "metadata": {},
   "outputs": [],
   "source": [
    "from math import ceil, sqrt\n",
    "\n",
    "\n",
    "def solve(p, q, a):\n",
    "    # Step 1\n",
    "    m = ceil(ceil(sqrt(p-1)))\n",
    "    # print(m)\n",
    "    pows = {pow(q, i, p): i for i in range(m)}\n",
    "    # print(pows)\n",
    "    r = pow(pow(q, -1, p), m, p)\n",
    "    # print(r)\n",
    "\n",
    "    # Step 2\n",
    "    b = a\n",
    "    for j in range(m):\n",
    "        if (i := pows.get(b)) is not None:\n",
    "            return ((j * m) % p + i) % p\n",
    "        b = (b * r) % p\n",
    "    return None"
   ]
  },
  {
   "cell_type": "code",
   "execution_count": 43,
   "id": "4546cb61",
   "metadata": {},
   "outputs": [
    {
     "name": "stdout",
     "output_type": "stream",
     "text": [
      "4\n",
      "---------------------------------\n",
      "17\n",
      "---------------------------------\n",
      "3\n",
      "---------------------------------\n"
     ]
    }
   ],
   "source": [
    "tests = [\n",
    "    (7, 3, 4),\n",
    "    (29, 8, 10),\n",
    "    (113, 76, 84),\n",
    "]\n",
    "for test in tests:\n",
    "    print(solve(*test))\n",
    "    print(\"---------------------------------\")"
   ]
  },
  {
   "cell_type": "markdown",
   "id": "812b4993",
   "metadata": {},
   "source": [
    "# Wymiana klucza typu Diffie-Hellman\n",
    "\n",
    "Alice i Bob uzgadniają klucz publiczny będący liczbą pierwszą $p$ oraz $q$ - pierwiastkiem pierwotnym mod $p$.\n",
    "\n",
    "- sekret Alice: liczba całkowita $n\\in \\mathbb{Z}_p\\setminus\\{0\\}$\n",
    "- sekret Boba: liczba całkowita $m\\in \\mathbb{Z}_p\\setminus\\{0\\}$\n",
    "- Alice generuje $x=q^n\\mod p$ i wysyła do Boba\n",
    "- Bob generuje $y=q^m\\mod p$ i wysyła Alice\n",
    "- Alice oblicza klucz $k=y^n\\mod p$\n",
    "- Bob oblicza klucz $k=x^m\\mod p$\n"
   ]
  },
  {
   "cell_type": "markdown",
   "id": "076f56f9",
   "metadata": {},
   "source": [
    "## Zadanie 2.\n",
    "\n",
    "Zaimplementuj powyższy algorytm wymiany klucza. Dobierz parametry $p$ i $q$ tak, żeby znając $x$, $y$, $p$ i $q$ nie dało się odtworzyć sekretów algorytmem z zadania 1.\n"
   ]
  },
  {
   "cell_type": "code",
   "execution_count": 78,
   "id": "3191f9d3",
   "metadata": {},
   "outputs": [],
   "source": [
    "# p = 29\n",
    "p = 170141183460469231731687303715884105727\n",
    "p = 67280421310721\n",
    "p = 1000000000100011\n",
    "\n",
    "q = 8"
   ]
  },
  {
   "cell_type": "code",
   "execution_count": 79,
   "id": "0310077f",
   "metadata": {},
   "outputs": [],
   "source": [
    "from random import randint\n",
    "\n",
    "\n",
    "class User:\n",
    "    def __init__(self):\n",
    "        self.n = randint(1, p-1)\n",
    "        self.x = pow(q, self.n, p)\n",
    "\n",
    "    def get_x(self):\n",
    "        return self.x\n",
    "\n",
    "    def get_n(self):\n",
    "        return self.n\n",
    "\n",
    "    def get_key(self, x):\n",
    "        return pow(x, self.n, p)\n",
    "\n",
    "\n",
    "ala = User()\n",
    "bob = User()"
   ]
  },
  {
   "cell_type": "code",
   "execution_count": 80,
   "id": "14a18ac8",
   "metadata": {},
   "outputs": [],
   "source": [
    "# k = ala.get_key(bob.get_x())\n",
    "# ala.get_n()\n",
    "# k = bob.get_key(ala.get_x())\n",
    "# k"
   ]
  },
  {
   "cell_type": "code",
   "execution_count": 81,
   "id": "9a6148dc",
   "metadata": {},
   "outputs": [
    {
     "ename": "KeyboardInterrupt",
     "evalue": "",
     "output_type": "error",
     "traceback": [
      "\u001b[0;31m---------------------------------------------------------------------------\u001b[0m",
      "\u001b[0;31mKeyboardInterrupt\u001b[0m                         Traceback (most recent call last)",
      "Cell \u001b[0;32mIn[81], line 1\u001b[0m\n\u001b[0;32m----> 1\u001b[0m n \u001b[38;5;241m=\u001b[39m \u001b[43msolve\u001b[49m\u001b[43m(\u001b[49m\u001b[43mp\u001b[49m\u001b[43m,\u001b[49m\u001b[43m \u001b[49m\u001b[43mq\u001b[49m\u001b[43m,\u001b[49m\u001b[43m \u001b[49m\u001b[43mala\u001b[49m\u001b[38;5;241;43m.\u001b[39;49m\u001b[43mget_x\u001b[49m\u001b[43m(\u001b[49m\u001b[43m)\u001b[49m\u001b[43m)\u001b[49m\n\u001b[1;32m      2\u001b[0m \u001b[38;5;66;03m# n = solve(p, q, bob.get_x())\u001b[39;00m\n\u001b[1;32m      3\u001b[0m n\n",
      "Cell \u001b[0;32mIn[42], line 8\u001b[0m, in \u001b[0;36msolve\u001b[0;34m(p, q, a)\u001b[0m\n\u001b[1;32m      6\u001b[0m m \u001b[38;5;241m=\u001b[39m ceil(ceil(sqrt(p\u001b[38;5;241m-\u001b[39m\u001b[38;5;241m1\u001b[39m)))\n\u001b[1;32m      7\u001b[0m \u001b[38;5;66;03m# print(m)\u001b[39;00m\n\u001b[0;32m----> 8\u001b[0m pows \u001b[38;5;241m=\u001b[39m {\u001b[38;5;28;43mpow\u001b[39;49m\u001b[43m(\u001b[49m\u001b[43mq\u001b[49m\u001b[43m,\u001b[49m\u001b[43m \u001b[49m\u001b[43mi\u001b[49m\u001b[43m,\u001b[49m\u001b[43m \u001b[49m\u001b[43mp\u001b[49m\u001b[43m)\u001b[49m: i \u001b[38;5;28;01mfor\u001b[39;00m i \u001b[38;5;129;01min\u001b[39;00m \u001b[38;5;28mrange\u001b[39m(m)}\n\u001b[1;32m      9\u001b[0m \u001b[38;5;66;03m# print(pows)\u001b[39;00m\n\u001b[1;32m     10\u001b[0m r \u001b[38;5;241m=\u001b[39m \u001b[38;5;28mpow\u001b[39m(\u001b[38;5;28mpow\u001b[39m(q, \u001b[38;5;241m-\u001b[39m\u001b[38;5;241m1\u001b[39m, p), m, p)\n",
      "\u001b[0;31mKeyboardInterrupt\u001b[0m: "
     ]
    }
   ],
   "source": [
    "n = solve(p, q, ala.get_x())\n",
    "# n = solve(p, q, bob.get_x())\n",
    "n"
   ]
  }
 ],
 "metadata": {
  "kernelspec": {
   "display_name": "venv",
   "language": "python",
   "name": "python3"
  },
  "language_info": {
   "codemirror_mode": {
    "name": "ipython",
    "version": 3
   },
   "file_extension": ".py",
   "mimetype": "text/x-python",
   "name": "python",
   "nbconvert_exporter": "python",
   "pygments_lexer": "ipython3",
   "version": "3.12.7"
  }
 },
 "nbformat": 4,
 "nbformat_minor": 5
}
